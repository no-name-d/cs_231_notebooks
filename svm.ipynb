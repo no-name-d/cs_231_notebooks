{
 "cells": [
  {
   "cell_type": "markdown",
   "metadata": {
    "tags": [
     "pdf-title"
    ]
   },
   "source": [
    "# Многоклассовая машина опорных векторов\n",
    "\n",
    "\n",
    "В этом задании вы:\n",
    "    \n",
    "- реализуете полностью векторизованную **функцию потерь** для SVM\n",
    "- создадите векторизованное выражение для **аналитического градиента**\n",
    "- **проверите свою реализацию** с помощью числового градиента\n",
    "- используете оценочную выборку для **настройки скорости обучения и силы регуляризации**\n",
    "- **оптимизируете** функцию потерь с помощью **SGD**\n",
    "- **визуализируете** окончательные веса\n"
   ]
  },
  {
   "cell_type": "code",
   "execution_count": 36,
   "metadata": {},
   "outputs": [
    {
     "name": "stdout",
     "output_type": "stream",
     "text": "The autoreload extension is already loaded. To reload it, use:\n  %reload_ext autoreload\n"
    }
   ],
   "source": [
    "\n",
    "# Запустите эту ячейку для проверки работоспособности необходимых модулей.\n",
    "import random\n",
    "import numpy as np\n",
    "from cs231n.data_utils import load_CIFAR10\n",
    "import matplotlib.pyplot as plt\n",
    "\n",
    "# Немного магии, чтобы заставить графики matplotlib появляться прямо внутри блокнота,\n",
    "# а не в новом окне.\n",
    "%matplotlib inline\n",
    "plt.rcParams['figure.figsize'] = (10.0, 8.0) # размер графиков по умолчанию\n",
    "plt.rcParams['image.interpolation'] = 'nearest'\n",
    "plt.rcParams['image.cmap'] = 'gray'\n",
    "\n",
    "# Больше магии с дополнительными Python-модулями можно найти здесь\n",
    "# http://stackoverflow.com/questions/1907993/autoreload-of-modules-in-ipython\n",
    "%load_ext autoreload\n",
    "%autoreload 2"
   ]
  },
  {
   "cell_type": "markdown",
   "metadata": {
    "tags": [
     "pdf-ignore"
    ]
   },
   "source": [
    "## Загрузка и предварительная обработка CIFAR-10"
   ]
  },
  {
   "cell_type": "code",
   "execution_count": 37,
   "metadata": {},
   "outputs": [
    {
     "ename": "NameError",
     "evalue": "name 'g' is not defined",
     "output_type": "error",
     "traceback": [
      "\u001b[0;31m---------------------------------------------------------------------------\u001b[0m",
      "\u001b[0;31mNameError\u001b[0m                                 Traceback (most recent call last)",
      "\u001b[0;32m<ipython-input-37-30349c310a3d>\u001b[0m in \u001b[0;36m<module>\u001b[0;34m\u001b[0m\n\u001b[0;32m----> 1\u001b[0;31m \u001b[0mg\u001b[0m\u001b[0;31m# Загружаем исходные данные CIFAR-10.\u001b[0m\u001b[0;34m\u001b[0m\u001b[0;34m\u001b[0m\u001b[0m\n\u001b[0m\u001b[1;32m      2\u001b[0m \u001b[0mcifar10_dir\u001b[0m \u001b[0;34m=\u001b[0m \u001b[0;34m'cs231n/datasets/cifar-10-batches-py'\u001b[0m\u001b[0;34m\u001b[0m\u001b[0;34m\u001b[0m\u001b[0m\n\u001b[1;32m      3\u001b[0m \u001b[0;34m\u001b[0m\u001b[0m\n\u001b[1;32m      4\u001b[0m \u001b[0;31m# Очищаем переменные, чтобы данные можно было загружать много раз\u001b[0m\u001b[0;34m\u001b[0m\u001b[0;34m\u001b[0m\u001b[0;34m\u001b[0m\u001b[0m\n\u001b[1;32m      5\u001b[0m \u001b[0;32mtry\u001b[0m\u001b[0;34m:\u001b[0m\u001b[0;34m\u001b[0m\u001b[0;34m\u001b[0m\u001b[0m\n",
      "\u001b[0;31mNameError\u001b[0m: name 'g' is not defined"
     ]
    }
   ],
   "source": [
    "g# Загружаем исходные данные CIFAR-10.\n",
    "cifar10_dir = 'cs231n/datasets/cifar-10-batches-py'\n",
    "\n",
    "# Очищаем переменные, чтобы данные можно было загружать много раз \n",
    "try:\n",
    "   del X_train, y_train\n",
    "   del X_test, y_test\n",
    "   print('Очистка предыдущих данных.')\n",
    "except:\n",
    "   pass\n",
    "\n",
    "X_train, y_train, X_test, y_test = load_CIFAR10(cifar10_dir)\n",
    "\n",
    "# Выводим размер тестовых и обучающих данных\n",
    "print('Объём обучающей выборки: ', X_train.shape)\n",
    "print('Число обучающих меток: ', y_train.shape)\n",
    "print('Объём тестовой выборки: ', X_test.shape)\n",
    "print('Число тестовых меток: ', y_test.shape)"
   ]
  },
  {
   "cell_type": "code",
   "execution_count": null,
   "metadata": {},
   "outputs": [],
   "source": [
    "# Отображаем несколько примеров из тестового датасета.\n",
    "# Посмотрим на несколько изображений из каждого класса.\n",
    "classes = ['plane', 'car', 'bird', 'cat', 'deer', 'dog', 'frog', 'horse', 'ship', 'truck']\n",
    "num_classes = len(classes)\n",
    "samples_per_class = 7\n",
    "for y, cls in enumerate(classes):\n",
    "    idxs = np.flatnonzero(y_train == y)\n",
    "    idxs = np.random.choice(idxs, samples_per_class, replace=False)\n",
    "    for i, idx in enumerate(idxs):\n",
    "        plt_idx = i * num_classes + y + 1\n",
    "        plt.subplot(samples_per_class, num_classes, plt_idx)\n",
    "        plt.imshow(X_train[idx].astype('uint8'))\n",
    "        plt.axis('off')\n",
    "        if i == 0:\n",
    "            plt.title(cls)\n",
    "plt.show()"
   ]
  },
  {
   "cell_type": "code",
   "execution_count": null,
   "metadata": {},
   "outputs": [],
   "source": [
    "\n",
    "# Разделяем данные на обучающую, оценочную и тестовыю выборки. В дополнение\n",
    "# к этому создадим небольшую подвыборку обучающих данных размером num_dev;\n",
    "# которую сможем использовать для ускорения кода.\n",
    "num_training = 49000\n",
    "num_validation = 1000\n",
    "num_test = 1000\n",
    "num_dev = 500\n",
    "\n",
    "# Создаём оценочную выборку\n",
    "mask = range(num_training, num_training + num_validation)\n",
    "X_val = X_train[mask]\n",
    "y_val = y_train[mask]\n",
    "\n",
    "# Создаём обучающую выборку\n",
    "mask = range(num_training)\n",
    "X_train = X_train[mask]\n",
    "y_train = y_train[mask]\n",
    "\n",
    "# Создаём подвыборку dev\n",
    "mask = np.random.choice(num_training, num_dev, replace=False)\n",
    "X_dev = X_train[mask]\n",
    "y_dev = y_train[mask]\n",
    "\n",
    "# Создаём тестовую выборку\n",
    "mask = range(num_test)\n",
    "X_test = X_test[mask]\n",
    "y_test = y_test[mask]\n",
    "\n",
    "print('Объём обучающей выборки: ', X_train.shape)\n",
    "print('Число обучающих меток: ', y_train.shape)\n",
    "print('Объём оценочной выборки: ', X_val.shape)\n",
    "print('Число оценочных меток: ', y_val.shape)\n",
    "print('Объём тестовой выборки: ', X_test.shape)\n",
    "print('Число тестовых меток: ', y_test.shape)"
   ]
  },
  {
   "cell_type": "code",
   "execution_count": null,
   "metadata": {},
   "outputs": [],
   "source": [
    "# Предварительная обработка: преобразуем данные в строки\n",
    "X_train = np.reshape(X_train, (X_train.shape[0], -1))\n",
    "X_val = np.reshape(X_val, (X_val.shape[0], -1))\n",
    "X_test = np.reshape(X_test, (X_test.shape[0], -1))\n",
    "X_dev = np.reshape(X_dev, (X_dev.shape[0], -1))\n",
    "\n",
    "# Выводим размер данных\n",
    "print('Объём обучающих данных: ', X_train.shape)\n",
    "print('Объём оценочных данных: ', X_val.shape)\n",
    "print('Объём тестовых данных: ', X_test.shape)\n",
    "print('Объём данных dev: ', X_dev.shape)"
   ]
  },
  {
   "cell_type": "code",
   "execution_count": null,
   "metadata": {},
   "outputs": [],
   "source": [
    "# Предварительная обработка: вычесть среднее изображение\n",
    "# 1: вычисляем среднее значение изображения на основе обучающих данных\n",
    "mean_image = np.mean(X_train, axis=0)\n",
    "print(mean_image[:10]) # print a few of the elements\n",
    "plt.figure(figsize=(4,4))\n",
    "plt.imshow(mean_image.reshape((32,32,3)).astype('uint8')) # visualize the mean image\n",
    "plt.show()\n",
    "\n",
    "# 2: Вычитаем среднее изображение из данных\n",
    "X_train -= mean_image\n",
    "X_val -= mean_image\n",
    "X_test -= mean_image\n",
    "X_dev -= mean_image\n",
    "\n",
    "# 3: добавляем единичное смещение, чтобы наш SVM заботился только\n",
    "# об оптимизации матрицы весов W.\n",
    "X_train = np.hstack([X_train, np.ones((X_train.shape[0], 1))])\n",
    "X_val = np.hstack([X_val, np.ones((X_val.shape[0], 1))])\n",
    "X_test = np.hstack([X_test, np.ones((X_test.shape[0], 1))])\n",
    "X_dev = np.hstack([X_dev, np.ones((X_dev.shape[0], 1))])\n",
    "\n",
    "print(X_train.shape, X_val.shape, X_test.shape, X_dev.shape)"
   ]
  },
  {
   "cell_type": "markdown",
   "metadata": {},
   "source": [
    "## Классификатор SVM\n",
    "\n",
    "Реализуйте код для этого раздела, открыв файл **cs231n/classifiers/linear_svm.py**. \n",
    "\n",
    "Как вы можете видеть, функция `compute_loss_naive` уже написана: она использует циклы для оценки функции потерь мультиклассового SVM."
   ]
  },
  {
   "cell_type": "code",
   "execution_count": null,
   "metadata": {},
   "outputs": [],
   "source": [
    "# Оцениваем потери наивной реализации:\n",
    "from cs231n.classifiers.linear_svm import svm_loss_naive\n",
    "import time\n",
    "\n",
    "# Генерируем рандомную матрицу весов SVM с небольшими значениями\n",
    "W = np.random.randn(3073, 10) * 0.0001 \n",
    "\n",
    "loss, grad = svm_loss_naive(W, X_dev, y_dev, 0.000005)\n",
    "print('Потери: %f' % (loss, ))"
   ]
  },
  {
   "cell_type": "markdown",
   "metadata": {},
   "source": [
    "`Grad`, возвращённый из функции выше, сейчас равен нулю. Реализуйте его в функции `svm_loss_naive`.\n",
    "\n",
    "Чтобы убедиться, что вы правильно реализовали градиент, можете использовать числовую оценку и сравнить её с вычисленным вами градиентом. Для этого используйте следующий код:"
   ]
  },
  {
   "cell_type": "code",
   "execution_count": null,
   "metadata": {},
   "outputs": [],
   "source": [
    "# Код ниже считает числовой градиент и сравнивает его с полученным вами\n",
    "# в функции svm_loss_naive\n",
    "\n",
    "# Считаем потери и градиент\n",
    "loss, grad = svm_loss_naive(W, X_dev, y_dev, 0.0)\n",
    "\n",
    "# Вычисляем числовой градиент и сравниваем его с аналитическим\n",
    "from cs231n.gradient_check import grad_check_sparse\n",
    "f = lambda w: svm_loss_naive(w, X_dev, y_dev, 0.0)[0]\n",
    "grad_numerical = grad_check_sparse(f, W, grad)\n",
    "\n",
    "# Делаем градиентную проверку снова, но уже с регуляризацией.\n",
    "# Вы же не забыли про неё?\n",
    "loss, grad = svm_loss_naive(W, X_dev, y_dev, 5e1)\n",
    "f = lambda w: svm_loss_naive(w, X_dev, y_dev, 5e1)[0]\n",
    "grad_numerical = grad_check_sparse(f, W, grad)"
   ]
  },
  {
   "cell_type": "code",
   "execution_count": null,
   "metadata": {},
   "outputs": [],
   "source": [
    "# Теперь реализуйте функцию svm_loss_vectorized: пока что только посчитайте потери.\n",
    "# Градиент будет чуть позже\n",
    "tic = time.time()\n",
    "loss_naive, grad_naive = svm_loss_naive(W, X_dev, y_dev, 0.000005)\n",
    "toc = time.time()\n",
    "print('Потери с помощью циклов: %e время на вычисление %fс' % (loss_naive, toc - tic))\n",
    "\n",
    "from cs231n.classifiers.linear_svm import svm_loss_vectorized\n",
    "tic = time.time()\n",
    "loss_vectorized, _ = svm_loss_vectorized(W, X_dev, y_dev, 0.000005)\n",
    "toc = time.time()\n",
    "print('Векторизованные потери: %e время на вычисление %fс' % (loss_vectorized, toc - tic))\n",
    "\n",
    "# Потери должны совпадать, но векторизованная реализация должна работать гораздо быстрее.\n",
    "print('Разница: %f' % (loss_naive - loss_vectorized))"
   ]
  },
  {
   "cell_type": "code",
   "execution_count": null,
   "metadata": {},
   "outputs": [],
   "source": [
    "# Завершите реализацию svm_loss_vectorized и вычислите градиент\n",
    "# функции потерь с помощью векторов.\n",
    "\n",
    "# Обе реализации (цикли и веткора) должны совпадать, векотризация\n",
    "# должна ускорять процесс\n",
    "tic = time.time()\n",
    "_, grad_naive = svm_loss_naive(W, X_dev, y_dev, 0.000005)\n",
    "toc = time.time()\n",
    "print('Потери и градиент, реализованные с помощью циклов: время на вычисление %fс' % (toc - tic))\n",
    "\n",
    "tic = time.time()\n",
    "_, grad_vectorized = svm_loss_vectorized(W, X_dev, y_dev, 0.000005)\n",
    "toc = time.time()\n",
    "print('Векторизованные потери и градент: время на вычисление %fс' % (toc - tic))\n",
    "\n",
    "# Потери - это одно число, поэтому их довольно легко сравнивать для разных\n",
    "# реализаций. Но градиенты - это матрицы, поэтому для их сравнения мы\n",
    "# используем норму Фробениуса.\n",
    "difference = np.linalg.norm(grad_naive - grad_vectorized, ord='fro')\n",
    "print('Разница: %f' % difference)"
   ]
  },
  {
   "cell_type": "markdown",
   "metadata": {},
   "source": [
    "### Стохастический градиентный спуск\n",
    "\n",
    "Теперь у нас есть потери и градиент. Приступим к оптимизации и используем стохастический градиентный спуск (SGD), чтобы минимизировать потери."
   ]
  },
  {
   "cell_type": "code",
   "execution_count": null,
   "metadata": {},
   "outputs": [],
   "source": [
    "# В файле linear_classifier.py реализуйте алгоритм SGD в функции\n",
    "# LinearClassifier.train(), а затем запустите код ниже.\n",
    "from cs231n.classifiers import LinearSVM\n",
    "svm = LinearSVM()\n",
    "tic = time.time()\n",
    "loss_hist = svm.train(X_train, y_train, learning_rate=1e-7, reg=2.5e4,\n",
    "                      num_iters=1500, verbose=True)\n",
    "toc = time.time()\n",
    "print('Это заняло %fс' % (toc - tic))"
   ]
  },
  {
   "cell_type": "code",
   "execution_count": null,
   "metadata": {},
   "outputs": [],
   "source": [
    "# Полезная стратегия отладки - вывод функции потерь для всех итераций\n",
    "plt.plot(loss_hist)\n",
    "plt.xlabel('Iteration number')\n",
    "plt.ylabel('Loss value')\n",
    "plt.show()"
   ]
  },
  {
   "cell_type": "code",
   "execution_count": null,
   "metadata": {},
   "outputs": [],
   "source": [
    "# Напишите функцию LinearSVM.predict и оцените эффективность на\n",
    "# тестовой и оценочной выборках\n",
    "y_train_pred = svm.predict(X_train)\n",
    "print('Точность обучения: %f' % (np.mean(y_train == y_train_pred), ))\n",
    "y_val_pred = svm.predict(X_val)\n",
    "print('Точность оценки: %f' % (np.mean(y_val == y_val_pred), ))"
   ]
  },
  {
   "cell_type": "code",
   "execution_count": null,
   "metadata": {},
   "outputs": [],
   "source": [
    "# Используйте оценочную выборку, чтобы настроить гиперпараметры (силу регялризации\n",
    "# и скорость обучения). Поэкспереминтируйте с различными значениями; вы должны получить\n",
    "# точность классификации около 0.39 на оценочной выборке.\n",
    "\n",
    "# Обратите внимание: вы можете увидеть предупреждения runtime/overflow в процессе поиска \n",
    "# гиперпараметров. Они могут быть вызваны граничными значениями, поэтому не принимайте их за баг.\n",
    "\n",
    "learning_rates = [1e-7, 5e-5]\n",
    "regularization_strengths = [2.5e4, 5e4]\n",
    "\n",
    "# В результате вы должны получить словарь, который отображает \n",
    "# (learning_rate, regularization_strength) в \n",
    "# (training_accuracy, validation_accuracy). Точность - это обычная\n",
    "# доля правильно классифицированных данных.\n",
    "results = {}\n",
    "best_val = -1   # Самая высокая точность\n",
    "best_svm = None # Классификатор LinearSVM, который достиг наилучшей точности\n",
    "\n",
    "################################################################################\n",
    "# TODO:                                                                        #\n",
    "# Напишите код, который выбирает наилучшие гиперпараметры с помощью настройки  #\n",
    "# на оценочной выборке. Для каждой комбинации параметров обучите линейный SVM  #\n",
    "# на обучающей выборке, посчитайте его точность на тестовой и оценочной        #\n",
    "# выборках, и сохраните эти значения в итоговый словарь. В дополнение к этому  #\n",
    "# сохраните лучшую точность оценочной выборки в переменную best_val и лучший   #\n",
    "# классификатор в best_svm.                                                    #\n",
    "#                                                                              #\n",
    "# Подсказка: Поначалу используйте небольшие значения num_iters, чтобы обучение #\n",
    "# SVM не было слишком долгим. Как только вы реализуете и проверите код для     #\n",
    "# оценки, можете вернуть более высокие значения num_iters.                     #\n",
    "################################################################################\n",
    "# *****START OF YOUR CODE*****\n",
    "learning_rates_list = [i for i in np.arange(learning_rates[0], learning_rates[1] + learning_rates[0], learning_rates[0])]\n",
    "print(learning_rates_list, len(learning_rates_list))\n",
    "regularization_strengths_list = [i for i in np.arange(regularization_strengths[0], regularization_strengths[1], 50)]\n",
    "print(regularization_strengths_list, len(regularization_strengths_list))\n",
    "\n",
    "for i in range(len(regularization_strengths_list)):\n",
    "    svm.train(X_train, y_train, learning_rate=learning_rates_list[i], reg=(1/   regularization_strengths_list[i]), num_iters=10, batch_size=200, verbose=False)\n",
    "pass\n",
    "\n",
    "# *****END OF YOUR CODE*****\n",
    "    \n",
    "# Выводим результаты.\n",
    "for lr, reg in sorted(results):\n",
    "    train_accuracy, val_accuracy = results[(lr, reg)]\n",
    "    print('Скорость обучения: %e регуляризация: %e точность обучения: %f точность оценки: %f' % (\n",
    "                lr, reg, train_accuracy, val_accuracy))\n",
    "    \n",
    "print('Лучшая точность, достигнутая в результате кросс-валидации: %f' % best_val)"
   ]
  },
  {
   "cell_type": "code",
   "execution_count": null,
   "metadata": {},
   "outputs": [],
   "source": [
    "# Визуализируем результаты кросс-валидации\n",
    "import math\n",
    "x_scatter = [math.log10(x[0]) for x in results]\n",
    "y_scatter = [math.log10(x[1]) for x in results]\n",
    "\n",
    "# Выводим график точности обучения\n",
    "marker_size = 100\n",
    "colors = [results[x][0] for x in results]\n",
    "plt.subplot(2, 1, 1)\n",
    "plt.scatter(x_scatter, y_scatter, marker_size, c=colors, cmap=plt.cm.coolwarm)\n",
    "plt.colorbar()\n",
    "plt.xlabel('log learning rate')\n",
    "plt.ylabel('log regularization strength')\n",
    "plt.title('CIFAR-10 training accuracy')\n",
    "\n",
    "# График точности оценки\n",
    "colors = [results[x][1] for x in results] # размер маркеров по умолчанию 20\n",
    "plt.subplot(2, 1, 2)\n",
    "plt.scatter(x_scatter, y_scatter, marker_size, c=colors, cmap=plt.cm.coolwarm)\n",
    "plt.colorbar()\n",
    "plt.xlabel('log learning rate')\n",
    "plt.ylabel('log regularization strength')\n",
    "plt.title('CIFAR-10 validation accuracy')\n",
    "plt.show()"
   ]
  },
  {
   "cell_type": "code",
   "execution_count": null,
   "metadata": {},
   "outputs": [],
   "source": [
    "# Оцениваем лучший svm на тестовой выборке\n",
    "y_test_pred = best_svm.predict(X_test)\n",
    "test_accuracy = np.mean(y_test == y_test_pred)\n",
    "print('Окончательная точность линейного SVM на тестовой выборке: %f' % test_accuracy)"
   ]
  },
  {
   "cell_type": "code",
   "execution_count": null,
   "metadata": {},
   "outputs": [],
   "source": [
    "# Визуализируем веса для каждого класса.\n",
    "# В завсимости от выбранных вами скорости обучения и силы регуляризации, это может\n",
    "# выглядеть довольно неплохо (или наоборот).\n",
    "w = best_svm.W[:-1,:] # strip out the bias\n",
    "w = w.reshape(32, 32, 3, 10)\n",
    "w_min, w_max = np.min(w), np.max(w)\n",
    "classes = ['plane', 'car', 'bird', 'cat', 'deer', 'dog', 'frog', 'horse', 'ship', 'truck']\n",
    "for i in range(10):\n",
    "    plt.subplot(2, 5, i + 1)\n",
    "      \n",
    "    # Масштабируем веса в диапазон 0...255\n",
    "    wimg = 255.0 * (w[:, :, :, i].squeeze() - w_min) / (w_max - w_min)\n",
    "    plt.imshow(wimg.astype('uint8'))\n",
    "    plt.axis('off')\n",
    "    plt.title(classes[i])"
   ]
  }
 ],
 "metadata": {
  "kernelspec": {
   "display_name": "Python 3",
   "language": "python",
   "name": "python3"
  },
  "language_info": {
   "codemirror_mode": {
    "name": "ipython",
    "version": 3
   },
   "file_extension": ".py",
   "mimetype": "text/x-python",
   "name": "python",
   "nbconvert_exporter": "python",
   "pygments_lexer": "ipython3",
   "version": "3.7.4-final"
  }
 },
 "nbformat": 4,
 "nbformat_minor": 4
}