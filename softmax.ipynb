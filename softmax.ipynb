{
 "cells": [
  {
   "cell_type": "markdown",
   "metadata": {
    "tags": [
     "pdf-title"
    ]
   },
   "source": [
    "# Softmax\n",
    "\n",
    "\n",
    "Это задание аналогично SVM. Здесь вы:\n",
    "\n",
    "- реализуете полностью векторизованную **функцию потерь** для SVM\n",
    "- создадите векторизованное выражение для **аналитического градиента**\n",
    "- **проверите свою реализацию** с помощью числового градиента\n",
    "- используете оценочную выборку для **настройки скорости обучения и силы регуляризации**\n",
    "- **оптимизируете** функцию потерь с помощью **SGD**\n",
    "- **визуализируете** окончательные веса"
   ]
  },
  {
   "cell_type": "code",
   "execution_count": null,
   "metadata": {
    "tags": [
     "pdf-ignore"
    ]
   },
   "outputs": [],
   "source": [
    "import random\n",
    "import numpy as np\n",
    "from cs231n.data_utils import load_CIFAR10\n",
    "import matplotlib.pyplot as plt\n",
    "\n",
    "%matplotlib inline\n",
    "plt.rcParams['figure.figsize'] = (10.0, 8.0) # размер графиков по умолчанию\n",
    "plt.rcParams['image.interpolation'] = 'nearest'\n",
    "plt.rcParams['image.cmap'] = 'gray'\n",
    "\n",
    "# http://stackoverflow.com/questions/1907993/autoreload-of-modules-in-ipython\n",
    "%load_ext autoreload\n",
    "%autoreload 2"
   ]
  },
  {
   "cell_type": "code",
   "execution_count": null,
   "metadata": {
    "tags": [
     "pdf-ignore"
    ]
   },
   "outputs": [],
   "source": [
    "def get_CIFAR10_data(num_training=49000, num_validation=1000, num_test=1000, num_dev=500):\n",
    "    \"\"\"\n",
    "    Загружаем датасет CIFAR-10 и предварительно обрабатываем данные.\n",
    "    Здесь используются те же действия, что и в SVM, но сжатые в одну функцию.  \n",
    "    \"\"\"\n",
    "    # Загружаем исходные данные CIFAR-10\n",
    "    cifar10_dir = 'cs231n/datasets/cifar-10-batches-py'\n",
    "    \n",
    "    # Очищаем переменные, чтобы данные можно было загружать много раз \n",
    "    try:\n",
    "       del X_train, y_train\n",
    "       del X_test, y_test\n",
    "       print('Очистка предыдущих данных.')\n",
    "    except:\n",
    "       pass\n",
    "\n",
    "    X_train, y_train, X_test, y_test = load_CIFAR10(cifar10_dir)\n",
    "    \n",
    "    # Разделяем данные на подвыборки\n",
    "    mask = list(range(num_training, num_training + num_validation))\n",
    "    X_val = X_train[mask]\n",
    "    y_val = y_train[mask]\n",
    "    mask = list(range(num_training))\n",
    "    X_train = X_train[mask]\n",
    "    y_train = y_train[mask]\n",
    "    mask = list(range(num_test))\n",
    "    X_test = X_test[mask]\n",
    "    y_test = y_test[mask]\n",
    "    mask = np.random.choice(num_training, num_dev, replace=False)\n",
    "    X_dev = X_train[mask]\n",
    "    y_dev = y_train[mask]\n",
    "    \n",
    "    # Преобразуем данные в строки\n",
    "    X_train = np.reshape(X_train, (X_train.shape[0], -1))\n",
    "    X_val = np.reshape(X_val, (X_val.shape[0], -1))\n",
    "    X_test = np.reshape(X_test, (X_test.shape[0], -1))\n",
    "    X_dev = np.reshape(X_dev, (X_dev.shape[0], -1))\n",
    "    \n",
    "    # Нормализация: вычитаем среднее изображение\n",
    "    mean_image = np.mean(X_train, axis = 0)\n",
    "    X_train -= mean_image\n",
    "    X_val -= mean_image\n",
    "    X_test -= mean_image\n",
    "    X_dev -= mean_image\n",
    "    \n",
    "    # Добавляем смещение и преобразуем в столбцы\n",
    "    X_train = np.hstack([X_train, np.ones((X_train.shape[0], 1))])\n",
    "    X_val = np.hstack([X_val, np.ones((X_val.shape[0], 1))])\n",
    "    X_test = np.hstack([X_test, np.ones((X_test.shape[0], 1))])\n",
    "    X_dev = np.hstack([X_dev, np.ones((X_dev.shape[0], 1))])\n",
    "    \n",
    "    return X_train, y_train, X_val, y_val, X_test, y_test, X_dev, y_dev\n",
    "\n",
    "\n",
    "# Используем функцию выше, чтобы подготовить все данные\n",
    "X_train, y_train, X_val, y_val, X_test, y_test, X_dev, y_dev = get_CIFAR10_data()\n",
    "print('Объём обучающей выборки: ', X_train.shape)\n",
    "print('Число обучающих меток: ', y_train.shape)\n",
    "print('Объём оценочной выборки: ', X_val.shape)\n",
    "print('Число оценочных меток: ', y_val.shape)\n",
    "print('Объём тестовой выборки: ', X_test.shape)\n",
    "print('Число тестовых меток: ', y_test.shape)\n",
    "print('Объём данных dev: ', X_dev.shape)\n",
    "print('Число меток dev: ', y_dev.shape)"
   ]
  },
  {
   "cell_type": "markdown",
   "metadata": {},
   "source": [
    "## Классификатор Softmax\n",
    "Чтобы выполнить эту секцию, реализуйте ваш код в файле **cs231n/classifiers/softmax.py**. \n"
   ]
  },
  {
   "cell_type": "code",
   "execution_count": null,
   "metadata": {},
   "outputs": [],
   "source": [
    "# Сначала реализуйте наивный метод поиска потерь softmax с циклами.\n",
    "# Откройте файл cs231n/classifiers/softmax.py и напишите функцию\n",
    "# softmax_loss_naive function.\n",
    "\n",
    "from cs231n.classifiers.softmax import softmax_loss_naive\n",
    "import time\n",
    "\n",
    "# Генерируем рандомную матрицу весов softmax и считаем потери.\n",
    "W = np.random.randn(3073, 10) * 0.0001\n",
    "loss, grad = softmax_loss_naive(W, X_dev, y_dev, 0.0)\n",
    "\n",
    "# Грубая проверка: наши потери должны быть близки к -log(0.1).\n",
    "print('Потери: %f' % loss)\n",
    "print('Грубая проверка: %f' % (-np.log(0.1)))"
   ]
  },
  {
   "cell_type": "code",
   "execution_count": null,
   "metadata": {},
   "outputs": [],
   "source": [
    "# Завершите функцию softmax_loss_naive и реализуйте (наивную)\n",
    "# версию градиента с помощью циклов.\n",
    "loss, grad = softmax_loss_naive(W, X_dev, y_dev, 0.0)\n",
    "\n",
    "# Как и для SVM, используйте числовой градиент для проверки.\n",
    "# Их значения должны быть близки.\n",
    "from cs231n.gradient_check import grad_check_sparse\n",
    "f = lambda w: softmax_loss_naive(w, X_dev, y_dev, 0.0)[0]\n",
    "grad_numerical = grad_check_sparse(f, W, grad, 10)\n",
    "\n",
    "# Делаем ещё одну проверку с регуляризацией (как и в SVM)\n",
    "loss, grad = softmax_loss_naive(W, X_dev, y_dev, 5e1)\n",
    "f = lambda w: softmax_loss_naive(w, X_dev, y_dev, 5e1)[0]\n",
    "grad_numerical = grad_check_sparse(f, W, grad, 10)"
   ]
  },
  {
   "cell_type": "code",
   "execution_count": null,
   "metadata": {},
   "outputs": [],
   "source": [
    "# Теперь реализуйте векторизованную версию функции потерь softmax_loss_vectorized.\n",
    "# Обе версии должны давать одинаковый результат, но векторизация должна работать быстрее.\n",
    "tic = time.time()\n",
    "loss_naive, grad_naive = softmax_loss_naive(W, X_dev, y_dev, 0.000005)\n",
    "toc = time.time()\n",
    "print('Потери с помощью циклов: %e время на вычисление %fс' % (loss_naive, toc - tic))\n",
    "\n",
    "from cs231n.classifiers.softmax import softmax_loss_vectorized\n",
    "tic = time.time()\n",
    "loss_vectorized, grad_vectorized = softmax_loss_vectorized(W, X_dev, y_dev, 0.000005)\n",
    "toc = time.time()\n",
    "print('Векторизованные потери: %e время на вычисление %fс' % (loss_vectorized, toc - tic))\n",
    "\n",
    "# Как и для SVM, используем норму Фробениуса для сравнения градиентов.\n",
    "grad_difference = np.linalg.norm(grad_naive - grad_vectorized, ord='fro')\n",
    "print('Разница между потерями: %f' % np.abs(loss_naive - loss_vectorized))\n",
    "print('Разница между градиентами: %f' % grad_difference)"
   ]
  },
  {
   "cell_type": "code",
   "execution_count": null,
   "metadata": {
    "tags": [
     "code"
    ]
   },
   "outputs": [],
   "source": [
    "# Используйте оценочную выборку, чтобы настроить гиперпараметры (силу регялризации\n",
    "# и скорость обучения). Поэкспереминтируйте с различными значениями; вы должны получить\n",
    "# точность классификации около 0.35 на оценочной выборке.\n",
    "from cs231n.classifiers import Softmax\n",
    "results = {}\n",
    "best_val = -1\n",
    "best_softmax = None\n",
    "learning_rates = [1e-7, 5e-7]\n",
    "regularization_strengths = [2.5e4, 5e4]\n",
    "\n",
    "################################################################################\n",
    "# TODO:                                                                        #\n",
    "# Используйте оценочную выборку, чтобы настроить скорость обучения и силу      #\n",
    "# регуляризации. Этот процесс будет идентичным тому, что вы проделывали в      #\n",
    "# задании с SVM. Сохраните лучший softmax классификатор в переменную           #\n",
    "# best_softmax.                                                                #\n",
    "################################################################################\n",
    "# *****START OF YOUR CODE*****\n",
    "\n",
    "pass\n",
    "\n",
    "# *****END OF YOUR CODE*****\n",
    "    \n",
    "# Выводим результаты.\n",
    "for lr, reg in sorted(results):\n",
    "    train_accuracy, val_accuracy = results[(lr, reg)]\n",
    "    print('Скорость обучения: %e регуляризация: %e точность обучения: %f точность оценки: %f' % (\n",
    "                lr, reg, train_accuracy, val_accuracy))\n",
    "    \n",
    "print('Лучшая точность, достигнутая в результате кросс-валидации: %f' % best_val)"
   ]
  },
  {
   "cell_type": "code",
   "execution_count": null,
   "metadata": {},
   "outputs": [],
   "source": [
    "# Оцениваем классификатор на тестовой выборке\n",
    "y_test_pred = best_softmax.predict(X_test)\n",
    "test_accuracy = np.mean(y_test == y_test_pred)\n",
    "print('Окончательная точность классификатора softmax на тестовой выборке: %f' % (test_accuracy, ))"
   ]
  },
  {
   "cell_type": "code",
   "execution_count": null,
   "metadata": {},
   "outputs": [],
   "source": [
    "# Визуализируем веса для каждого класса\n",
    "w = best_softmax.W[:-1,:] # убираем смещение\n",
    "w = w.reshape(32, 32, 3, 10)\n",
    "\n",
    "w_min, w_max = np.min(w), np.max(w)\n",
    "\n",
    "classes = ['plane', 'car', 'bird', 'cat', 'deer', 'dog', 'frog', 'horse', 'ship', 'truck']\n",
    "for i in range(10):\n",
    "    plt.subplot(2, 5, i + 1)\n",
    "    \n",
    "    # Масштабируем веса в диапазон 0...255\n",
    "    wimg = 255.0 * (w[:, :, :, i].squeeze() - w_min) / (w_max - w_min)\n",
    "    plt.imshow(wimg.astype('uint8'))\n",
    "    plt.axis('off')\n",
    "    plt.title(classes[i])"
   ]
  }
 ],
 "metadata": {
  "kernelspec": {
   "display_name": "Python 3",
   "language": "python",
   "name": "python3"
  },
  "language_info": {
   "codemirror_mode": {
    "name": "ipython",
    "version": 3
   },
   "file_extension": ".py",
   "mimetype": "text/x-python",
   "name": "python",
   "nbconvert_exporter": "python",
   "pygments_lexer": "ipython3",
   "version": "3.7.4"
  }
 },
 "nbformat": 4,
 "nbformat_minor": 4
}
